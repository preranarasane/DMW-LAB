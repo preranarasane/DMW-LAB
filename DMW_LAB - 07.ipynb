{
 "cells": [
  {
   "cell_type": "markdown",
   "id": "aa033cb3",
   "metadata": {},
   "source": [
    "## Assignment No 7 - Implementation of similarity and dissimilarity measures "
   ]
  },
  {
   "cell_type": "markdown",
   "id": "cab5fa5f",
   "metadata": {},
   "source": [
    "###                    Numeric similarity and dissimilarty"
   ]
  },
  {
   "cell_type": "code",
   "execution_count": 1,
   "id": "49d9f0a8",
   "metadata": {},
   "outputs": [],
   "source": [
    "#euclidean distance \n",
    "from math import*\n",
    " \n",
    "def euclidean_distance(x,y):\n",
    " \n",
    "    return sqrt(sum(pow(a-b,2) for a, b in zip(x, y)))"
   ]
  },
  {
   "cell_type": "code",
   "execution_count": 2,
   "id": "e763c6c1",
   "metadata": {},
   "outputs": [
    {
     "name": "stdout",
     "output_type": "stream",
     "text": [
      "9.746794344808963\n"
     ]
    }
   ],
   "source": [
    "print(euclidean_distance([0,3,4,5],[7,6,3,-1]))"
   ]
  },
  {
   "cell_type": "code",
   "execution_count": 3,
   "id": "a80eb9ce",
   "metadata": {},
   "outputs": [],
   "source": [
    "#manhattan distance \n",
    "from math import*\n",
    " \n",
    "def manhattan_distance(x,y):\n",
    " \n",
    "    return sum(abs(a-b) for a,b in zip(x,y))\n",
    " \n"
   ]
  },
  {
   "cell_type": "code",
   "execution_count": 4,
   "id": "45d5a425",
   "metadata": {},
   "outputs": [
    {
     "name": "stdout",
     "output_type": "stream",
     "text": [
      "10\n"
     ]
    }
   ],
   "source": [
    "print(manhattan_distance([10,20,10],[10,20,20]))"
   ]
  },
  {
   "cell_type": "code",
   "execution_count": 5,
   "id": "42dc9b98",
   "metadata": {},
   "outputs": [],
   "source": [
    "#minkowski distance \n",
    "\n",
    "from math import*\n",
    "from decimal import Decimal\n",
    " \n",
    "def nth_root(value, n_root):\n",
    " \n",
    "    root_value = 1/float(n_root)\n",
    "    return round (Decimal(value) ** Decimal(root_value),3)\n",
    " \n",
    "def minkowski_distance(x,y,p_value):\n",
    " \n",
    "    return nth_root(sum(pow(abs(a-b),p_value) for a,b in zip(x, y)),p_value)\n",
    " \n"
   ]
  },
  {
   "cell_type": "code",
   "execution_count": 6,
   "id": "fbae9c69",
   "metadata": {},
   "outputs": [
    {
     "name": "stdout",
     "output_type": "stream",
     "text": [
      "8.373\n"
     ]
    }
   ],
   "source": [
    "print (minkowski_distance([0,3,4,5],[7,6,3,-1],3))"
   ]
  },
  {
   "cell_type": "markdown",
   "id": "a33e72f7",
   "metadata": {},
   "source": [
    "### cosine similarity and dissimilarty"
   ]
  },
  {
   "cell_type": "code",
   "execution_count": 7,
   "id": "97ec587f",
   "metadata": {},
   "outputs": [],
   "source": [
    "from math import*\n",
    " \n",
    "def square_rooted(x):\n",
    " \n",
    "    return round(sqrt(sum([a*a for a in x])),3)\n",
    " \n",
    "def cosine_similarity(x,y):\n",
    "    numerator = sum(a*b for a,b in zip(x,y))\n",
    "    denominator = square_rooted(x)*square_rooted(y)\n",
    "    return round(numerator/float(denominator),3)"
   ]
  },
  {
   "cell_type": "code",
   "execution_count": 8,
   "id": "f9882905",
   "metadata": {},
   "outputs": [
    {
     "name": "stdout",
     "output_type": "stream",
     "text": [
      "0.972\n"
     ]
    }
   ],
   "source": [
    "print(cosine_similarity([3, 45, 7, 2], [2, 54, 13, 15]))"
   ]
  },
  {
   "cell_type": "code",
   "execution_count": null,
   "id": "70f98805",
   "metadata": {},
   "outputs": [],
   "source": []
  }
 ],
 "metadata": {
  "kernelspec": {
   "display_name": "Python 3 (ipykernel)",
   "language": "python",
   "name": "python3"
  },
  "language_info": {
   "codemirror_mode": {
    "name": "ipython",
    "version": 3
   },
   "file_extension": ".py",
   "mimetype": "text/x-python",
   "name": "python",
   "nbconvert_exporter": "python",
   "pygments_lexer": "ipython3",
   "version": "3.7.1"
  }
 },
 "nbformat": 4,
 "nbformat_minor": 5
}
